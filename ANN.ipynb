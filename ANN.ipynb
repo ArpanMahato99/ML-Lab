{
  "nbformat": 4,
  "nbformat_minor": 0,
  "metadata": {
    "colab": {
      "provenance": [],
      "authorship_tag": "ABX9TyNbRZ47jtm0rO8GnVkZy3VM",
      "include_colab_link": true
    },
    "kernelspec": {
      "name": "python3",
      "display_name": "Python 3"
    },
    "language_info": {
      "name": "python"
    }
  },
  "cells": [
    {
      "cell_type": "markdown",
      "metadata": {
        "id": "view-in-github",
        "colab_type": "text"
      },
      "source": [
        "<a href=\"https://colab.research.google.com/github/ArpanMahato99/ML-Lab/blob/main/ANN.ipynb\" target=\"_parent\"><img src=\"https://colab.research.google.com/assets/colab-badge.svg\" alt=\"Open In Colab\"/></a>"
      ]
    },
    {
      "cell_type": "code",
      "execution_count": 1,
      "metadata": {
        "id": "yQDWyZBKTylx"
      },
      "outputs": [],
      "source": [
        "import numpy as np"
      ]
    },
    {
      "cell_type": "code",
      "source": [
        "x = np.array(([2,9],[1,5],[3,6]), dtype=float)\n",
        "y = np.array(([92],[86], [89]), dtype=float)"
      ],
      "metadata": {
        "id": "m8HY7VvJW9uP"
      },
      "execution_count": 3,
      "outputs": []
    },
    {
      "cell_type": "code",
      "source": [
        "x = x/np.amax(x, axis=0)\n",
        "y = y/100"
      ],
      "metadata": {
        "id": "-IJ3SvXuXM3W"
      },
      "execution_count": 4,
      "outputs": []
    },
    {
      "cell_type": "code",
      "source": [
        "def sigmoid(x):\n",
        "  return 1/(1 + np.exp(-x))"
      ],
      "metadata": {
        "id": "Tbl7NHruXWMH"
      },
      "execution_count": 5,
      "outputs": []
    },
    {
      "cell_type": "code",
      "source": [
        "def sigmoid_grad(x):\n",
        "  return x*(1-x)"
      ],
      "metadata": {
        "id": "CUNYU7OSXqB6"
      },
      "execution_count": 6,
      "outputs": []
    },
    {
      "cell_type": "code",
      "source": [
        "epoch = 1000\n",
        "eta = 0.2\n",
        "input_neurons = 2\n",
        "hidden_neurons = 3\n",
        "output_neurons = 1"
      ],
      "metadata": {
        "id": "qm77nd-RXup8"
      },
      "execution_count": 7,
      "outputs": []
    },
    {
      "cell_type": "code",
      "source": [
        "wh = np.random.uniform(size=(input_neurons, hidden_neurons))\n",
        "bh = np.random.uniform(size=(1, hidden_neurons))\n",
        "wout = np.random.uniform(size=(hidden_neurons, output_neurons))\n",
        "bout = np.random.uniform(size=(1, output_neurons))"
      ],
      "metadata": {
        "id": "aOi65aOHX4Qq"
      },
      "execution_count": 8,
      "outputs": []
    },
    {
      "cell_type": "code",
      "source": [
        " for i in range(epoch):\n",
        "  h_ip=np.dot(x,wh) + bh\n",
        "  h_act = sigmoid(h_ip) \n",
        "  o_ip=np.dot(h_act,wout) + bout\n",
        "  output = sigmoid(o_ip)\n",
        "  \n",
        "  Eo = y-output\n",
        "  outgrad = sigmoid_grad(output)\n",
        "  d_output = Eo* outgrad\n",
        "  \n",
        "  Eh = d_output.dot(wout.T)\n",
        "  hiddengrad = sigmoid_grad(h_act)\n",
        "  d_hidden = Eh * hiddengrad        \n",
        "  wout += h_act.T.dot(d_output) *eta     \n",
        "  wh += x.T.dot(d_hidden) *eta"
      ],
      "metadata": {
        "id": "IuvYEl0BYTkL"
      },
      "execution_count": 12,
      "outputs": []
    },
    {
      "cell_type": "code",
      "source": [
        "print(\"Normalized Input: \\n\" + str(x))\n",
        "print(\"Actual Output: \\n\" + str(y))\n",
        "print(\"Predicted Output: \\n\" ,output)"
      ],
      "metadata": {
        "colab": {
          "base_uri": "https://localhost:8080/"
        },
        "id": "anhe5gb-YmKp",
        "outputId": "bf9880b3-de48-4210-cd64-9b0344d6704a"
      },
      "execution_count": 13,
      "outputs": [
        {
          "output_type": "stream",
          "name": "stdout",
          "text": [
            "Normalized Input: \n",
            "[[0.66666667 1.        ]\n",
            " [0.33333333 0.55555556]\n",
            " [1.         0.66666667]]\n",
            "Actual Output: \n",
            "[[0.92]\n",
            " [0.86]\n",
            " [0.89]]\n",
            "Predicted Output: \n",
            " [[0.89501929]\n",
            " [0.87812049]\n",
            " [0.89673365]]\n"
          ]
        }
      ]
    },
    {
      "cell_type": "code",
      "source": [],
      "metadata": {
        "id": "m7H5If9_bzj3"
      },
      "execution_count": null,
      "outputs": []
    }
  ]
}